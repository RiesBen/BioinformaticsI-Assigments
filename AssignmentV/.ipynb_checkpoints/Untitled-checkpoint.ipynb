{
 "cells": [
  {
   "cell_type": "code",
   "execution_count": 105,
   "metadata": {
    "collapsed": false
   },
   "outputs": [
    {
     "name": "stderr",
     "output_type": "stream",
     "text": [
      "C:\\Users\\Benjamin\\Anaconda3\\lib\\site-packages\\matplotlib\\collections.py:590: FutureWarning: elementwise comparison failed; returning scalar instead, but in the future will perform elementwise comparison\n",
      "  if self._edgecolors == str('face'):\n"
     ]
    }
   ],
   "source": [
    "import numpy as np\n",
    "import matplotlib.pyplot as plt\n",
    "\n",
    "x = np.arange(0.,8.)\n",
    "\n",
    "y1 = 12-2*x\n",
    "y2 = 7-x\n",
    "y3 = (16-2*x)/3\n",
    "y4 = (6+x)/2\n",
    "\n",
    "plt.ylim(0,14)\n",
    "plt.plot(x,y1,'r', x,y2,'g', x,y3,'b', x,y4,'y')\n",
    "plt.fill_between(x,y4, where=(x <=2), color='grey', alpha='0.2')\n",
    "#x, 0, 1, where=y > theta, facecolor='green', alpha=0.5, transform=trans\n",
    "plt.fill_between(x,y3, where=((x <= 5) & (x>=2)), color='grey', alpha='0.2')\n",
    "plt.fill_between(x,y1, where=((x <= 6) & (x>=5)),color='grey', alpha='0.2')\n",
    "#plt.fill_between(x,y3, color='grey', alpha='0.1')\n",
    "plt.show()\n"
   ]
  }
 ],
 "metadata": {
  "kernelspec": {
   "display_name": "Python 3",
   "language": "python",
   "name": "python3"
  },
  "language_info": {
   "codemirror_mode": {
    "name": "ipython",
    "version": 3
   },
   "file_extension": ".py",
   "mimetype": "text/x-python",
   "name": "python",
   "nbconvert_exporter": "python",
   "pygments_lexer": "ipython3",
   "version": "3.4.3"
  }
 },
 "nbformat": 4,
 "nbformat_minor": 0
}
